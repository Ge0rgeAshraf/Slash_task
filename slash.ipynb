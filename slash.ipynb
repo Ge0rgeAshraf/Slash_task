{
  "nbformat": 4,
  "nbformat_minor": 0,
  "metadata": {
    "colab": {
      "provenance": []
    },
    "kernelspec": {
      "name": "python3",
      "display_name": "Python 3"
    },
    "language_info": {
      "name": "python"
    }
  },
  "cells": [
    {
      "cell_type": "markdown",
      "source": [
        "# **Integrating important liberaries**"
      ],
      "metadata": {
        "id": "UXDvIsd06jpp"
      }
    },
    {
      "cell_type": "code",
      "execution_count": 17,
      "metadata": {
        "id": "9F0Dn19qrRGG"
      },
      "outputs": [],
      "source": [
        "from skimage.feature import hog\n",
        "from sklearn.model_selection import train_test_split\n",
        "from sklearn.neighbors import KNeighborsClassifier\n",
        "from sklearn.metrics import accuracy_score\n",
        "import numpy as np\n",
        "import pandas as pd\n",
        "from sklearn.model_selection import train_test_split\n",
        "from skimage.color import rgb2gray\n",
        "import cv2\n",
        "import glob"
      ]
    },
    {
      "cell_type": "markdown",
      "source": [
        "# **Preprocess the images , remove the black spaces from the screenshots , normalizing the images values to make it faster in the learning stage and making the dataframe**"
      ],
      "metadata": {
        "id": "ovGge_yJ6ywy"
      }
    },
    {
      "cell_type": "code",
      "source": [
        "def preprocess_image(image_path, target_size):\n",
        "    image = cv2.imread(image_path)\n",
        "    resized_image = cv2.resize(image, target_size)\n",
        "    normalized_image = resized_image / 255.0\n",
        "    return normalized_image\n",
        "\n",
        "target_size = (128, 128)\n",
        "\n",
        "folder_path = \"/content/drive/MyDrive/dataSetForSlash/Games\"\n",
        "image_pattern = \"*.png\"\n",
        "\n",
        "image_files = glob.glob(folder_path + \"/\" + image_pattern)\n",
        "images = []\n",
        "for image_file in image_files:\n",
        "    images.append(preprocess_image(image_file, target_size))\n",
        "data = {\n",
        "    'image' : images,\n",
        "    'label' : ['game' for i in range(0,len(images))]\n",
        "}\n",
        "df = pd.DataFrame(data)\n",
        "print(df)"
      ],
      "metadata": {
        "colab": {
          "base_uri": "https://localhost:8080/"
        },
        "id": "GB-y87EFrYd9",
        "outputId": "d218d141-544c-486d-9bf2-d662ac8552ea"
      },
      "execution_count": 7,
      "outputs": [
        {
          "output_type": "stream",
          "name": "stdout",
          "text": [
            "                                                image label\n",
            "0   [[[0.047058823529411764, 0.047058823529411764,...  game\n",
            "1   [[[0.047058823529411764, 0.047058823529411764,...  game\n",
            "2   [[[0.047058823529411764, 0.047058823529411764,...  game\n",
            "3   [[[0.047058823529411764, 0.047058823529411764,...  game\n",
            "4   [[[0.047058823529411764, 0.047058823529411764,...  game\n",
            "5   [[[0.047058823529411764, 0.047058823529411764,...  game\n",
            "6   [[[0.047058823529411764, 0.047058823529411764,...  game\n",
            "7   [[[0.047058823529411764, 0.047058823529411764,...  game\n",
            "8   [[[0.047058823529411764, 0.047058823529411764,...  game\n",
            "9   [[[0.047058823529411764, 0.047058823529411764,...  game\n",
            "10  [[[0.047058823529411764, 0.047058823529411764,...  game\n",
            "11  [[[0.047058823529411764, 0.047058823529411764,...  game\n",
            "12  [[[0.047058823529411764, 0.047058823529411764,...  game\n",
            "13  [[[0.047058823529411764, 0.047058823529411764,...  game\n",
            "14  [[[0.047058823529411764, 0.047058823529411764,...  game\n",
            "15  [[[0.047058823529411764, 0.047058823529411764,...  game\n",
            "16  [[[0.047058823529411764, 0.047058823529411764,...  game\n",
            "17  [[[0.047058823529411764, 0.047058823529411764,...  game\n",
            "18  [[[0.047058823529411764, 0.047058823529411764,...  game\n",
            "19  [[[0.047058823529411764, 0.047058823529411764,...  game\n",
            "20  [[[0.047058823529411764, 0.047058823529411764,...  game\n",
            "21  [[[0.047058823529411764, 0.047058823529411764,...  game\n",
            "22  [[[0.047058823529411764, 0.047058823529411764,...  game\n",
            "23  [[[0.047058823529411764, 0.047058823529411764,...  game\n",
            "24  [[[0.047058823529411764, 0.047058823529411764,...  game\n",
            "25  [[[0.047058823529411764, 0.047058823529411764,...  game\n",
            "26  [[[0.047058823529411764, 0.047058823529411764,...  game\n",
            "27  [[[0.047058823529411764, 0.047058823529411764,...  game\n"
          ]
        }
      ]
    },
    {
      "cell_type": "code",
      "source": [
        "#make the same for fashion photos\n",
        "images =[]\n",
        "folder_path = \"/content/drive/MyDrive/dataSetForSlash/fashion\"\n",
        "\n",
        "image_pattern = \"*.png\"\n",
        "image_files = glob.glob(folder_path + \"/\" + image_pattern)\n",
        "for image_file in image_files:\n",
        "    images.append(preprocess_image(image_file, target_size))\n",
        "\n",
        "data = {\n",
        "    'image' : images,\n",
        "    'label' : ['fashion' for i in range(0,len(images))]\n",
        "}\n",
        "\n",
        "\n",
        "df2 = pd.DataFrame(data)"
      ],
      "metadata": {
        "id": "c1y4SF1WveXY"
      },
      "execution_count": null,
      "outputs": []
    },
    {
      "cell_type": "code",
      "source": [
        "df = df.append(df2)\n",
        "print(df)"
      ],
      "metadata": {
        "colab": {
          "base_uri": "https://localhost:8080/"
        },
        "id": "GA0J8Apd0Jyb",
        "outputId": "bdec8883-21f2-482b-9d8c-40c983ac908b"
      },
      "execution_count": 11,
      "outputs": [
        {
          "output_type": "stream",
          "name": "stderr",
          "text": [
            "<ipython-input-11-126aac54afd6>:1: FutureWarning: The frame.append method is deprecated and will be removed from pandas in a future version. Use pandas.concat instead.\n",
            "  df = df.append(df2)\n"
          ]
        },
        {
          "output_type": "stream",
          "name": "stdout",
          "text": [
            "                                                image    label\n",
            "0   [[[0.047058823529411764, 0.047058823529411764,...     game\n",
            "1   [[[0.047058823529411764, 0.047058823529411764,...     game\n",
            "2   [[[0.047058823529411764, 0.047058823529411764,...     game\n",
            "3   [[[0.047058823529411764, 0.047058823529411764,...     game\n",
            "4   [[[0.047058823529411764, 0.047058823529411764,...     game\n",
            "..                                                ...      ...\n",
            "43  [[[0.047058823529411764, 0.047058823529411764,...  fashion\n",
            "44  [[[0.047058823529411764, 0.047058823529411764,...  fashion\n",
            "45  [[[0.047058823529411764, 0.047058823529411764,...  fashion\n",
            "46  [[[0.047058823529411764, 0.047058823529411764,...  fashion\n",
            "47  [[[0.047058823529411764, 0.047058823529411764,...  fashion\n",
            "\n",
            "[76 rows x 2 columns]\n"
          ]
        }
      ]
    },
    {
      "cell_type": "markdown",
      "source": [
        "# **Extracting the HOG (Histogram of oriented gradients) feuters from the images to put it in the x train and y train to make the model learn **"
      ],
      "metadata": {
        "id": "dnMbNV9N7iOm"
      }
    },
    {
      "cell_type": "code",
      "source": [
        "X = df['image'].tolist()\n",
        "y = df['label'].tolist()\n",
        "\n",
        "X_train, X_test, y_train, y_test = train_test_split(X, y, test_size=0.2, random_state=42)\n",
        "\n",
        "\n",
        "def extract_hog_features(images):\n",
        "    hog_features = []\n",
        "    for img in images:\n",
        "        if len(img.shape) == 3:\n",
        "            img = rgb2gray(img)\n",
        "\n",
        "        if len(img.shape) != 2:\n",
        "            raise ValueError(\"Only grayscale images with two spatial dimensions are supported.\")\n",
        "\n",
        "        hog_img = hog(img, orientations=9, pixels_per_cell=(8, 8), cells_per_block=(2, 2), block_norm='L2-Hys', visualize=False)\n",
        "        hog_features.append(hog_img)\n",
        "    return np.array(hog_features)\n",
        "\n",
        "X_train_hog = extract_hog_features(X_train)\n",
        "X_test_hog = extract_hog_features(X_test)\n"
      ],
      "metadata": {
        "id": "s49c5lM3raj-"
      },
      "execution_count": 18,
      "outputs": []
    },
    {
      "cell_type": "markdown",
      "source": [
        "# **Using the knn (K-Nearest Neighbors) algorithm for learning and making the model**"
      ],
      "metadata": {
        "id": "LVn6Bjz48Hq1"
      }
    },
    {
      "cell_type": "code",
      "source": [
        "knn_classifier = KNeighborsClassifier(n_neighbors=5)\n",
        "knn_classifier.fit(X_train_hog, y_train)"
      ],
      "metadata": {
        "colab": {
          "base_uri": "https://localhost:8080/",
          "height": 75
        },
        "id": "NBN_B3J7reGC",
        "outputId": "c78d62d3-f391-47ab-f007-8c8370549890"
      },
      "execution_count": 19,
      "outputs": [
        {
          "output_type": "execute_result",
          "data": {
            "text/plain": [
              "KNeighborsClassifier()"
            ],
            "text/html": [
              "<style>#sk-container-id-1 {color: black;background-color: white;}#sk-container-id-1 pre{padding: 0;}#sk-container-id-1 div.sk-toggleable {background-color: white;}#sk-container-id-1 label.sk-toggleable__label {cursor: pointer;display: block;width: 100%;margin-bottom: 0;padding: 0.3em;box-sizing: border-box;text-align: center;}#sk-container-id-1 label.sk-toggleable__label-arrow:before {content: \"▸\";float: left;margin-right: 0.25em;color: #696969;}#sk-container-id-1 label.sk-toggleable__label-arrow:hover:before {color: black;}#sk-container-id-1 div.sk-estimator:hover label.sk-toggleable__label-arrow:before {color: black;}#sk-container-id-1 div.sk-toggleable__content {max-height: 0;max-width: 0;overflow: hidden;text-align: left;background-color: #f0f8ff;}#sk-container-id-1 div.sk-toggleable__content pre {margin: 0.2em;color: black;border-radius: 0.25em;background-color: #f0f8ff;}#sk-container-id-1 input.sk-toggleable__control:checked~div.sk-toggleable__content {max-height: 200px;max-width: 100%;overflow: auto;}#sk-container-id-1 input.sk-toggleable__control:checked~label.sk-toggleable__label-arrow:before {content: \"▾\";}#sk-container-id-1 div.sk-estimator input.sk-toggleable__control:checked~label.sk-toggleable__label {background-color: #d4ebff;}#sk-container-id-1 div.sk-label input.sk-toggleable__control:checked~label.sk-toggleable__label {background-color: #d4ebff;}#sk-container-id-1 input.sk-hidden--visually {border: 0;clip: rect(1px 1px 1px 1px);clip: rect(1px, 1px, 1px, 1px);height: 1px;margin: -1px;overflow: hidden;padding: 0;position: absolute;width: 1px;}#sk-container-id-1 div.sk-estimator {font-family: monospace;background-color: #f0f8ff;border: 1px dotted black;border-radius: 0.25em;box-sizing: border-box;margin-bottom: 0.5em;}#sk-container-id-1 div.sk-estimator:hover {background-color: #d4ebff;}#sk-container-id-1 div.sk-parallel-item::after {content: \"\";width: 100%;border-bottom: 1px solid gray;flex-grow: 1;}#sk-container-id-1 div.sk-label:hover label.sk-toggleable__label {background-color: #d4ebff;}#sk-container-id-1 div.sk-serial::before {content: \"\";position: absolute;border-left: 1px solid gray;box-sizing: border-box;top: 0;bottom: 0;left: 50%;z-index: 0;}#sk-container-id-1 div.sk-serial {display: flex;flex-direction: column;align-items: center;background-color: white;padding-right: 0.2em;padding-left: 0.2em;position: relative;}#sk-container-id-1 div.sk-item {position: relative;z-index: 1;}#sk-container-id-1 div.sk-parallel {display: flex;align-items: stretch;justify-content: center;background-color: white;position: relative;}#sk-container-id-1 div.sk-item::before, #sk-container-id-1 div.sk-parallel-item::before {content: \"\";position: absolute;border-left: 1px solid gray;box-sizing: border-box;top: 0;bottom: 0;left: 50%;z-index: -1;}#sk-container-id-1 div.sk-parallel-item {display: flex;flex-direction: column;z-index: 1;position: relative;background-color: white;}#sk-container-id-1 div.sk-parallel-item:first-child::after {align-self: flex-end;width: 50%;}#sk-container-id-1 div.sk-parallel-item:last-child::after {align-self: flex-start;width: 50%;}#sk-container-id-1 div.sk-parallel-item:only-child::after {width: 0;}#sk-container-id-1 div.sk-dashed-wrapped {border: 1px dashed gray;margin: 0 0.4em 0.5em 0.4em;box-sizing: border-box;padding-bottom: 0.4em;background-color: white;}#sk-container-id-1 div.sk-label label {font-family: monospace;font-weight: bold;display: inline-block;line-height: 1.2em;}#sk-container-id-1 div.sk-label-container {text-align: center;}#sk-container-id-1 div.sk-container {/* jupyter's `normalize.less` sets `[hidden] { display: none; }` but bootstrap.min.css set `[hidden] { display: none !important; }` so we also need the `!important` here to be able to override the default hidden behavior on the sphinx rendered scikit-learn.org. See: https://github.com/scikit-learn/scikit-learn/issues/21755 */display: inline-block !important;position: relative;}#sk-container-id-1 div.sk-text-repr-fallback {display: none;}</style><div id=\"sk-container-id-1\" class=\"sk-top-container\"><div class=\"sk-text-repr-fallback\"><pre>KNeighborsClassifier()</pre><b>In a Jupyter environment, please rerun this cell to show the HTML representation or trust the notebook. <br />On GitHub, the HTML representation is unable to render, please try loading this page with nbviewer.org.</b></div><div class=\"sk-container\" hidden><div class=\"sk-item\"><div class=\"sk-estimator sk-toggleable\"><input class=\"sk-toggleable__control sk-hidden--visually\" id=\"sk-estimator-id-1\" type=\"checkbox\" checked><label for=\"sk-estimator-id-1\" class=\"sk-toggleable__label sk-toggleable__label-arrow\">KNeighborsClassifier</label><div class=\"sk-toggleable__content\"><pre>KNeighborsClassifier()</pre></div></div></div></div></div>"
            ]
          },
          "metadata": {},
          "execution_count": 19
        }
      ]
    },
    {
      "cell_type": "markdown",
      "source": [
        "# **Using the model to pridect the x test **"
      ],
      "metadata": {
        "id": "qzRD32Is8V28"
      }
    },
    {
      "cell_type": "code",
      "source": [
        "y_pred = knn_classifier.predict(X_test_hog)"
      ],
      "metadata": {
        "id": "j-guJnLxriH1"
      },
      "execution_count": 20,
      "outputs": []
    },
    {
      "cell_type": "markdown",
      "source": [
        "# **Calculating the acuuracy score for the predicted values**"
      ],
      "metadata": {
        "id": "lilcurQ08oYo"
      }
    },
    {
      "cell_type": "code",
      "source": [
        "accuracy = accuracy_score(y_test, y_pred)\n",
        "print(\"Accuracy:\", accuracy)"
      ],
      "metadata": {
        "colab": {
          "base_uri": "https://localhost:8080/"
        },
        "id": "LZ0Xwiz5rkPn",
        "outputId": "2b652b1c-cb43-4a49-fb85-24ca9b998933"
      },
      "execution_count": 21,
      "outputs": [
        {
          "output_type": "stream",
          "name": "stdout",
          "text": [
            "Accuracy: 0.8125\n"
          ]
        }
      ]
    }
  ]
}